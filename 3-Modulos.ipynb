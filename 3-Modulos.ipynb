{
 "cells": [
  {
   "cell_type": "markdown",
   "metadata": {},
   "source": [
    "**Que son los módulos?**\n",
    "\n",
    "Es un archivo con extensión .py .pyc (Python compilado) que posee su propio espacio de nombres y que puede contener variables, funciones, clases e incluso otros módulos.\n",
    "\n",
    "**Para que sirven?**\n",
    "\n",
    "Para organizar y reutilizar el código (modularización y reutilización).\n"
   ]
  },
  {
   "cell_type": "code",
   "execution_count": 13,
   "metadata": {},
   "outputs": [
    {
     "ename": "AttributeError",
     "evalue": "module 'funciones_matematicas' has no attribute 'suma'",
     "output_type": "error",
     "traceback": [
      "\u001b[0;31m---------------------------------------------------------------------------\u001b[0m",
      "\u001b[0;31mAttributeError\u001b[0m                            Traceback (most recent call last)",
      "Cell \u001b[0;32mIn[13], line 3\u001b[0m\n\u001b[1;32m      1\u001b[0m \u001b[38;5;28;01mimport\u001b[39;00m \u001b[38;5;21;01mfunciones_matematicas\u001b[39;00m\n\u001b[0;32m----> 3\u001b[0m \u001b[43mfunciones_matematicas\u001b[49m\u001b[38;5;241;43m.\u001b[39;49m\u001b[43msuma\u001b[49m(\u001b[38;5;241m3\u001b[39m,\u001b[38;5;241m5\u001b[39m)\n",
      "\u001b[0;31mAttributeError\u001b[0m: module 'funciones_matematicas' has no attribute 'suma'"
     ]
    }
   ],
   "source": [
    "import funciones_matematicas\n",
    "\n",
    "funciones_matematicas.suma(3,5)"
   ]
  }
 ],
 "metadata": {
  "kernelspec": {
   "display_name": "Python 3",
   "language": "python",
   "name": "python3"
  },
  "language_info": {
   "codemirror_mode": {
    "name": "ipython",
    "version": 3
   },
   "file_extension": ".py",
   "mimetype": "text/x-python",
   "name": "python",
   "nbconvert_exporter": "python",
   "pygments_lexer": "ipython3",
   "version": "3.9.6"
  }
 },
 "nbformat": 4,
 "nbformat_minor": 2
}
