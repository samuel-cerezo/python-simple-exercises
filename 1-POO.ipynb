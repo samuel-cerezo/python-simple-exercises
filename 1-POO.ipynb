{
 "cells": [
  {
   "cell_type": "markdown",
   "metadata": {},
   "source": [
    "## Tipos de programaciones\n",
    "\n",
    "1)  **Programacion orientada a procedimientos (POP)**: Fortran, Cobol, Basic, etc.\n",
    "\n",
    "    Desventajas:\n",
    "\n",
    "                 - muchas lineas de código\n",
    "\n",
    "                 - poco reutilizables\n",
    "\n",
    "                 - muchos \"go-to\"\n",
    "2)  **Programacion orientada a objetos (POO)**: C++, Java, Visual.NET\n",
    "\n",
    "    En que consiste? - trasladar la naturaleza de objetos de la vida al código\n",
    "\n",
    "                     - los objetos tienen\n",
    "\n",
    "                            - estado\n",
    "\n",
    "                            - comportamiento (que puede hacer?)\n",
    "\n",
    "                            - propiedades (atributos)\n",
    "    Ventajas:\n",
    "\n",
    "                - Programa dividido en modulos, lo que se denomina \"modularización\"\n",
    "\n",
    "                - reutilizable --> herencia\n",
    "\n",
    "                - si existe un fallo, el programa continuará --> tratamiento de excepciones\n",
    "\n",
    "                - encapsulamiento\n"
   ]
  },
  {
   "cell_type": "markdown",
   "metadata": {},
   "source": [
    "## Ejemplo con un coche\n",
    "\n",
    "Construimos una app que construye coches. Entonces buscamos caracteristicas comunes que definen a un coche.\n",
    "\n",
    "- *Clase*: modelo donde se redactan las caracteristicas comunes de un grupo de objetos\n",
    "\n",
    "- *Instancia*: ejemplar perteneciente a una clase\n",
    "\n",
    "- *Modularización*: comportamiento parecido a antiguos de audio, compuestos de modulos (equalizador, volumen, radio, cd, etc.). Cada modulo es independiente en su operacion y si se daña, se repara solamente eso. Lo mismo sucede con el codigo realizado de forma modular.\n",
    "\n",
    "- *Encapsulación*: todos los modulos estan conectados entre si, pero cada clase esta encapsulada para que el funcionamiento interno no sea accesible desde fuera\n",
    "\n",
    "\n",
    "**Nomenclatura del punto** \n",
    "\n",
    "< nombre_objeto >.propiedad = < valor >\n",
    "< nombre_objeto >.comportamiento ()\n",
    "\n",
    "\n",
    "\n",
    "\n"
   ]
  },
  {
   "cell_type": "markdown",
   "metadata": {},
   "source": [
    "## Construimos una clase\n",
    "\n",
    "Un objeto tiene: \n",
    "- estado\n",
    "- propiedades\n",
    "- comportamiento determinado por Métodos (que es capaz de hacer?). Un método es una función que pertenece a una clase.\n",
    "La palabra *self* hace referencia al objeto perteneciente a la clase. En C++ o en Java hay un *this* implícito.\n",
    "\n",
    "Para acceder a las propiedades/comportamientos de un objeto, se utiliza la nomenclatura del punto."
   ]
  },
  {
   "cell_type": "code",
   "execution_count": 12,
   "metadata": {},
   "outputs": [
    {
     "name": "stdout",
     "output_type": "stream",
     "text": [
      "El coche está parado\n",
      "El coche esta en marcha\n"
     ]
    }
   ],
   "source": [
    "class Coche():\n",
    "    largoChasis=250\n",
    "    anchoChasis=120\n",
    "    ruedas=4\n",
    "    enmarcha=False\n",
    "\n",
    "    def arrancar(self):\n",
    "        self.enmarcha=True\n",
    "    \n",
    "    def estado(self):\n",
    "        if(self.enmarcha == True):\n",
    "            return \"El coche esta en marcha\"\n",
    "        else: \n",
    "            return \"El coche está parado\"\n",
    "\n",
    "miCoche = Coche() #aca instanciamos una clase\n",
    "print(miCoche.estado())\n",
    "miCoche.arrancar()\n",
    "print(miCoche.estado())\n"
   ]
  },
  {
   "cell_type": "markdown",
   "metadata": {},
   "source": [
    "## Encapsulación\n",
    "\n",
    "En el codigo anterior creamos una clase con 4 propiedades y 2 comportamientos.\n",
    "- El estado inicial lo definimos mediante un *constructor* (*\"def__init__(self)\"*).\n",
    "- Hay propiedades que preferimos que no se modifiquen desde afuera. Para que esto ocurra, hay que comenzar la variabla precediendo su nombre con 2 guiones bajos (\"__\")."
   ]
  },
  {
   "cell_type": "code",
   "execution_count": 22,
   "metadata": {},
   "outputs": [
    {
     "name": "stdout",
     "output_type": "stream",
     "text": [
      "El coche está parado\n",
      "Realizando chequeo interno...\n",
      "Chequeo con error\n",
      "Chequeo no exitoso\n",
      "El coche está parado\n"
     ]
    }
   ],
   "source": [
    "class Coche():\n",
    "\n",
    "    def __init__(self): #especifica un estado inicial\n",
    "        self.__largoChasis=250\n",
    "        self.__anchoChasis=120\n",
    "        self.__ruedas=4\n",
    "        self.__enmarcha=False\n",
    "\n",
    "    def arrancar(self):\n",
    "        chequeo = self.__chequeo_interno()\n",
    "        if(chequeo == True):\n",
    "            self.__enmarcha=True\n",
    "        else:\n",
    "            print(\"Chequeo no exitoso\")\n",
    "            self.__enmarcha=False\n",
    "\n",
    "    \n",
    "    def estado(self):\n",
    "        if(self.__enmarcha == True):\n",
    "            return \"El coche esta en marcha\"\n",
    "        else: \n",
    "            return \"El coche está parado\"\n",
    "        \n",
    "    def __chequeo_interno(self):\n",
    "        print(\"Realizando chequeo interno...\")\n",
    "        self.gasolina = \"ok\"\n",
    "        self.puertas = \"abiertas\"\n",
    "\n",
    "        if(self.gasolina == \"ok\" and self.puertas==\"cerradas\"):\n",
    "            print(\"Chequeo ok\")\n",
    "            return True\n",
    "        else:\n",
    "            print(\"Chequeo con error\")\n",
    "            return False\n",
    "        \n",
    "\n",
    "miCoche = Coche() #aca instanciamos una clase\n",
    "print(miCoche.estado())\n",
    "miCoche.arrancar()\n",
    "print(miCoche.estado())\n",
    "\n",
    "# si quiero acceder al metodo encapsulado, no voy a poder\n",
    "# print(miCoche.__chequeo_interno())"
   ]
  },
  {
   "cell_type": "markdown",
   "metadata": {},
   "source": [
    "## Herencia\n",
    "\n",
    "- Abuelo(tiene una casa) --> Padre(tiene un auto) --> hijo1 / hijo2\n",
    "\n",
    "Cuando el abuelo fallece, el padre hereda la casa...\n",
    "\n",
    "En **programacion**, el orden seria así:\n",
    "\n",
    "- Clase1(superclase) --> Clase2(subclase) --> Clase3\n",
    "\n",
    "¿Y para que sirve la herencia en el codigo? *Para reutilizar codigo en caso de querer crear objetos que sean similares*. \n",
    "\n",
    "- Por ejemplo, para crear una clase camion, podriamos crear una clase que sea *automovil* y mediante herencia crear otro que sea *camion*.\n",
    "En caso de herencia de una clase, **se hereda todo, incluso el constructor**.\n",
    "\n",
    "Cuando se sobreescribe un metodo, ya no se utiliza el metodo de la clase padre. \n",
    "\n",
    "**Principio de sustitución** \n",
    "\"es siempre un...\" --> un objeto de la subclase será siempre un objeto de la superclase."
   ]
  },
  {
   "cell_type": "code",
   "execution_count": 35,
   "metadata": {},
   "outputs": [
    {
     "name": "stdout",
     "output_type": "stream",
     "text": [
      "\n",
      "Marca:  Honda \n",
      "Modelo:  HRV \n",
      "Marcha:  False \n",
      "Acelera:  False \n",
      "Frena:  False \n",
      "Caballito:  \n",
      "\n",
      "Marca:  Citroen \n",
      "Modelo:  Berlingo \n",
      "Marcha:  False \n",
      "Acelera:  False \n",
      "Frena:  False \n",
      " La furgoneta esta cargada\n"
     ]
    }
   ],
   "source": [
    "class Vehiculos():\n",
    "\n",
    "    def __init__(self, marca, modelo):\n",
    "        self.marca = marca\n",
    "        self.modelo = modelo\n",
    "        self.enMarcha = False\n",
    "        self.acelera = False\n",
    "        self.frena = False\n",
    "    \n",
    "    def arrancar(self):\n",
    "        self.enMarcha=True\n",
    "\n",
    "    def acelerar(self):\n",
    "        self.acelera=True\n",
    "\n",
    "    def frenar(self):\n",
    "        self.frena=True\n",
    "    \n",
    "    def estado(self):\n",
    "        print(\"\\nMarca: \", self.marca, \"\\nModelo: \",self.modelo,\"\\nMarcha: \",self.enMarcha,\"\\nAcelera: \",self.acelera,\"\\nFrena: \",self.frena)\n",
    "\n",
    "\n",
    "class Moto(Vehiculos):\n",
    "    hcaballito=\"\"\n",
    "\n",
    "    def caballito(self):\n",
    "        hcaballito = \"voy haciendo el caballito\"\n",
    "\n",
    "    def estado(self):  #sobreescribo el metodo de la clase \"Vehiculos\"\n",
    "        print(\"\\nMarca: \", self.marca, \"\\nModelo: \",self.modelo,\"\\nMarcha: \",self.enMarcha,\"\\nAcelera: \",self.acelera,\"\\nFrena: \",self.frena,\"\\nCaballito: \",self.hcaballito)\n",
    "\n",
    "\n",
    "class Furgoneta(Vehiculos):\n",
    "    def carga(self, cargar):\n",
    "        self.cargado = cargar\n",
    "        if(self.cargado == True):\n",
    "            return \"La furgoneta esta cargada\"\n",
    "        else:\n",
    "            return \"La furgoneta no está cargada\"\n",
    "        \n",
    "    def estado(self):  #sobreescribo el metodo de la clase \"Vehiculos\"\n",
    "        print(\"\\nMarca: \", self.marca, \"\\nModelo: \",self.modelo,\"\\nMarcha: \",self.enMarcha,\"\\nAcelera: \",self.acelera,\"\\nFrena: \",self.frena,\"\\n\",self.carga(True))\n",
    "\n",
    "\n",
    "miMoto = Moto(\"Honda\", \"HRV\")\n",
    "miMoto.estado()\n",
    "\n",
    "miFurgoneta = Furgoneta(\"Citroen\", \"Berlingo\")\n",
    "miFurgoneta.estado()"
   ]
  },
  {
   "cell_type": "markdown",
   "metadata": {},
   "source": [
    "### Funcion super()\n",
    "Donde la coloco, llama al metodo de la clase padre."
   ]
  },
  {
   "cell_type": "code",
   "execution_count": 42,
   "metadata": {},
   "outputs": [
    {
     "name": "stdout",
     "output_type": "stream",
     "text": [
      "Nombre:  Antonio  Edad:  55  Residencia:  España\n",
      "Nombre:  Nicolas  Edad:  45  Residencia:  Argentina\n",
      "Salario:  1500  Antiguedad:  15\n"
     ]
    }
   ],
   "source": [
    "class Persona():\n",
    "    def __init__(self,nombre,edad,lugar_residencia):\n",
    "        self.nombre = nombre\n",
    "        self.edad = edad\n",
    "        self.lugar_residencia = lugar_residencia\n",
    "\n",
    "    def descripcion(self):\n",
    "        print(\"Nombre: \",self.nombre,\" Edad: \",self.edad, \" Residencia: \",self.lugar_residencia)\n",
    "\n",
    "class Empleado(Persona):\n",
    "\n",
    "    def __init__(self, salario, antiguedad, persona_nombre, persona_edad, persona_residencia):\n",
    "        super().__init__(persona_nombre, persona_edad, persona_residencia)   #esta funcion llama al constructor de la clase padre.\n",
    "        self.salario = salario\n",
    "        self.antiguedad = antiguedad\n",
    "\n",
    "    def descripcion(self):\n",
    "        super().descripcion()\n",
    "        print(\"Salario: \",self.salario,\" Antiguedad: \",self.antiguedad)\n",
    "\n",
    "Antonio = Persona(\"Antonio\", 55, \"España\")\n",
    "Antonio.descripcion()\n",
    "\n",
    "Nicolas = Empleado(1500, 15, \"Nicolas\", 45, \"Argentina\")\n",
    "Nicolas.descripcion()\n"
   ]
  },
  {
   "cell_type": "markdown",
   "metadata": {},
   "source": [
    "## Polimorfismo\n",
    "\n",
    "La idea seria modificar una clase y transformarse en otra.\n"
   ]
  },
  {
   "cell_type": "code",
   "execution_count": 43,
   "metadata": {},
   "outputs": [
    {
     "name": "stdout",
     "output_type": "stream",
     "text": [
      "Me desplazo utilizando 2 ruedas\n",
      "Me desplazo utilizando 6 ruedas\n"
     ]
    }
   ],
   "source": [
    "class Coche():\n",
    "\n",
    "    def desplazamiento(self):\n",
    "        print(\"Me desplazo utilizando 4 ruedas\")\n",
    "\n",
    "class Moto():\n",
    "\n",
    "    def desplazamiento(self):\n",
    "        print(\"Me desplazo utilizando 2 ruedas\")\n",
    "               \n",
    "class Camion():\n",
    "\n",
    "    def desplazamiento(self):\n",
    "        print(\"Me desplazo utilizando 6 ruedas\")\n",
    "    \n",
    "\n",
    "miVehiculo1 = Moto()\n",
    "miVehiculo1.desplazamiento()\n",
    "miVehiculo2 = Camion()\n",
    "miVehiculo2.desplazamiento()"
   ]
  },
  {
   "cell_type": "markdown",
   "metadata": {},
   "source": [
    "En vez de hacer esto, podemos usar el *polimorfismo*"
   ]
  },
  {
   "cell_type": "code",
   "execution_count": 45,
   "metadata": {},
   "outputs": [
    {
     "name": "stdout",
     "output_type": "stream",
     "text": [
      "Me desplazo utilizando 2 ruedas\n"
     ]
    }
   ],
   "source": [
    "class Coche():\n",
    "\n",
    "    def desplazamiento(self):\n",
    "        print(\"Me desplazo utilizando 4 ruedas\")\n",
    "\n",
    "class Moto():\n",
    "\n",
    "    def desplazamiento(self):\n",
    "        print(\"Me desplazo utilizando 2 ruedas\")\n",
    "               \n",
    "class Camion():\n",
    "\n",
    "    def desplazamiento(self):\n",
    "        print(\"Me desplazo utilizando 6 ruedas\")\n",
    "    \n",
    "def desplazamientoVehiculo(vehiculo):   #el polimorfismo ocurre aqui, donde ingreso vehiculo pero no sabe de que tipo es\n",
    "    vehiculo.desplazamiento()\n",
    "\n",
    "\n",
    "miVehiculo = Moto()\n",
    "desplazamientoVehiculo(miVehiculo)"
   ]
  }
 ],
 "metadata": {
  "kernelspec": {
   "display_name": "Python 3",
   "language": "python",
   "name": "python3"
  },
  "language_info": {
   "codemirror_mode": {
    "name": "ipython",
    "version": 3
   },
   "file_extension": ".py",
   "mimetype": "text/x-python",
   "name": "python",
   "nbconvert_exporter": "python",
   "pygments_lexer": "ipython3",
   "version": "3.9.6"
  }
 },
 "nbformat": 4,
 "nbformat_minor": 2
}
