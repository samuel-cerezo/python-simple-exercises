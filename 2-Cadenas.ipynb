{
 "cells": [
  {
   "cell_type": "markdown",
   "metadata": {},
   "source": [
    "## Metodos de cadenas\n",
    "\n",
    "- upper() y lower() : convierte a mayuscula, minuscula\n",
    "- capitalize() : pone la primera letra en mayuscula y el resto en minuscula\n",
    "- count() : cuenta las veces que aparece un grupo de letras dentro de un texto\n",
    "- find() : representa la posicion en la cual aparece ese caracter en un texto\n",
    "- digit() : nos dice si el valor es un numero o no\n",
    "- isalum() : nos dice si es alfanumerico\n",
    "- isalpha() : nos dice si hay solo letras\n",
    "- split() : separa por palabras utilizando espacios\n",
    "- strip() : borra los espacios sobrantes al principio y al final\n",
    "- replace() : cambia una letra por otra\n",
    "- rfind() : lo mismo que find() pero desde atrás"
   ]
  },
  {
   "cell_type": "code",
   "execution_count": 4,
   "metadata": {},
   "outputs": [
    {
     "name": "stdout",
     "output_type": "stream",
     "text": [
      "hElLo sAmU\n",
      "Hello samu\n"
     ]
    }
   ],
   "source": [
    "msg = \"hElLo sAmU\"\n",
    "print(msg)\n",
    "print(msg.capitalize())"
   ]
  }
 ],
 "metadata": {
  "kernelspec": {
   "display_name": "Python 3",
   "language": "python",
   "name": "python3"
  },
  "language_info": {
   "codemirror_mode": {
    "name": "ipython",
    "version": 3
   },
   "file_extension": ".py",
   "mimetype": "text/x-python",
   "name": "python",
   "nbconvert_exporter": "python",
   "pygments_lexer": "ipython3",
   "version": "3.9.6"
  }
 },
 "nbformat": 4,
 "nbformat_minor": 2
}
